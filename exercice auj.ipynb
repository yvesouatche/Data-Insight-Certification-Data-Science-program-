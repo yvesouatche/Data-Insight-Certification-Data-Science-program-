{
 "cells": [
  {
   "cell_type": "code",
   "execution_count": 18,
   "metadata": {},
   "outputs": [
    {
     "name": "stdout",
     "output_type": "stream",
     "text": [
      "entrer le motwqs\n",
      "df\n"
     ]
    }
   ],
   "source": [
    "def rev(a=input(\"entrer le mot\")):\n",
    "    return a[::-1]\n",
    "print(a)\n"
   ]
  },
  {
   "cell_type": "code",
   "execution_count": 15,
   "metadata": {},
   "outputs": [],
   "source": [
    "def reverse(input):\n",
    "    return reduce(lambda x,y : y+x, input)"
   ]
  },
  {
   "cell_type": "code",
   "execution_count": 1,
   "metadata": {},
   "outputs": [
    {
     "name": "stdout",
     "output_type": "stream",
     "text": [
      "Entrez une valeur: fgh\n"
     ]
    }
   ],
   "source": [
    "def rev(v): \n",
    "    a = v[::-1]  \n",
    "  \n",
    "    if (v == a): \n",
    "        return True\n",
    "    return False\n",
    "  \n",
    "  \n",
    "var = input((\"Entrez une valeur: \"))\n",
    "if(rev(var)):\n",
    "    print(a)\n"
   ]
  },
  {
   "cell_type": "code",
   "execution_count": 22,
   "metadata": {},
   "outputs": [
    {
     "ename": "SyntaxError",
     "evalue": "invalid syntax (<ipython-input-22-48b167eeeb4f>, line 1)",
     "output_type": "error",
     "traceback": [
      "\u001b[0;36m  File \u001b[0;32m\"<ipython-input-22-48b167eeeb4f>\"\u001b[0;36m, line \u001b[0;32m1\u001b[0m\n\u001b[0;31m    def longueur_chaine_rec(char s){\u001b[0m\n\u001b[0m                                 ^\u001b[0m\n\u001b[0;31mSyntaxError\u001b[0m\u001b[0;31m:\u001b[0m invalid syntax\n"
     ]
    }
   ],
   "source": [
    "def longueur_chaine_rec(char s){\n",
    "     \n",
    "    if(s == 0):\n",
    "        return 0;\n",
    "    else:\n",
    "       return 1+longueur_chaine_rec(s+1);\n",
    "}"
   ]
  },
  {
   "cell_type": "code",
   "execution_count": 23,
   "metadata": {},
   "outputs": [],
   "source": [
    "def reverse(text):\n",
    "    if len(text) <= 1:\n",
    "        return text\n",
    "\n",
    "    return reverse(text[1:]) + text[0]\n"
   ]
  },
  {
   "cell_type": "code",
   "execution_count": 28,
   "metadata": {},
   "outputs": [
    {
     "data": {
      "text/plain": [
       "24"
      ]
     },
     "execution_count": 28,
     "metadata": {},
     "output_type": "execute_result"
    }
   ],
   "source": [
    "def factorielle(n):\n",
    "    if n == 0:\n",
    "        return 1\n",
    "    else:\n",
    "        return n  * factorielle(n-1)\n",
    "    \n",
    "factorielle(4)"
   ]
  },
  {
   "cell_type": "code",
   "execution_count": 30,
   "metadata": {},
   "outputs": [
    {
     "ename": "NameError",
     "evalue": "name 'raw_input' is not defined",
     "output_type": "error",
     "traceback": [
      "\u001b[0;31m---------------------------------------------------------------------------\u001b[0m",
      "\u001b[0;31mNameError\u001b[0m                                 Traceback (most recent call last)",
      "\u001b[0;32m<ipython-input-30-2b9fbb3bb2c9>\u001b[0m in \u001b[0;36m<module>\u001b[0;34m\u001b[0m\n\u001b[0;32m----> 1\u001b[0;31m \u001b[0ms\u001b[0m \u001b[0;34m=\u001b[0m \u001b[0mraw_input\u001b[0m\u001b[0;34m(\u001b[0m\u001b[0;34m)\u001b[0m\u001b[0;34m.\u001b[0m\u001b[0mstrip\u001b[0m\u001b[0;34m(\u001b[0m\u001b[0;34m)\u001b[0m\u001b[0;34m\u001b[0m\u001b[0;34m\u001b[0m\u001b[0m\n\u001b[0m\u001b[1;32m      2\u001b[0m \u001b[0mcount\u001b[0m \u001b[0;34m=\u001b[0m \u001b[0;36m1\u001b[0m\u001b[0;34m\u001b[0m\u001b[0;34m\u001b[0m\u001b[0m\n\u001b[1;32m      3\u001b[0m \u001b[0;32mfor\u001b[0m \u001b[0mi\u001b[0m \u001b[0;32min\u001b[0m \u001b[0ms\u001b[0m\u001b[0;34m:\u001b[0m\u001b[0;34m\u001b[0m\u001b[0;34m\u001b[0m\u001b[0m\n\u001b[1;32m      4\u001b[0m     \u001b[0;32mif\u001b[0m \u001b[0mi\u001b[0m\u001b[0;34m.\u001b[0m\u001b[0misupper\u001b[0m\u001b[0;34m(\u001b[0m\u001b[0;34m)\u001b[0m\u001b[0;34m:\u001b[0m\u001b[0;34m\u001b[0m\u001b[0;34m\u001b[0m\u001b[0m\n\u001b[1;32m      5\u001b[0m         \u001b[0mcount\u001b[0m \u001b[0;34m=\u001b[0m \u001b[0mcount\u001b[0m \u001b[0;34m+\u001b[0m \u001b[0;36m1\u001b[0m\u001b[0;34m\u001b[0m\u001b[0;34m\u001b[0m\u001b[0m\n",
      "\u001b[0;31mNameError\u001b[0m: name 'raw_input' is not defined"
     ]
    }
   ],
   "source": [
    "s = raw_input().strip()\n",
    "count = 1\n",
    "for i in s:\n",
    "    if i.isupper():\n",
    "        count = count + 1\n",
    "print (count)"
   ]
  },
  {
   "cell_type": "code",
   "execution_count": 31,
   "metadata": {},
   "outputs": [
    {
     "name": "stdout",
     "output_type": "stream",
     "text": [
      "(1, 5)\n",
      "Le nombre de majuscules est :  1\n",
      "Le nombre de minuscules est :  5\n"
     ]
    }
   ],
   "source": [
    "def nombreMajMin(s):\n",
    "    \n",
    "    # on initialise le nombre de majuscules et de minuscules à zéro\n",
    "    nombreMaj = 0\n",
    "    nombreMin = 0\n",
    " \n",
    " \n",
    "    # on parcourt les lettres de s en testant si le caractère est maj ou min\n",
    "    for lettre in s:\n",
    "        if(lettre.isupper()):\n",
    "            nombreMaj = nombreMaj + 1 \n",
    "        elif lettre.islower():\n",
    "            nombreMin = nombreMin + 1\n",
    "            \n",
    "    return (nombreMaj , nombreMin)\n",
    "# On teste l'algorithme\n",
    "s = \"Python\"\n",
    "print(nombreMajMin(s))\n",
    "print(\"Le nombre de majuscules est : \" , nombreMajMin(s)[0])\n",
    "print(\"Le nombre de minuscules est : \" , nombreMajMin(s)[1])"
   ]
  },
  {
   "cell_type": "code",
   "execution_count": 34,
   "metadata": {},
   "outputs": [
    {
     "data": {
      "text/plain": [
       "(1, 4)"
      ]
     },
     "execution_count": 34,
     "metadata": {},
     "output_type": "execute_result"
    }
   ],
   "source": [
    "# exo 4\n",
    "def nombreMajMin(s):\n",
    "    \n",
    "    # on initialise le nombre de majuscules et de minuscules à zéro\n",
    "    nombreMaj = 0\n",
    "    nombreMin = 0\n",
    " \n",
    " \n",
    "    # on parcourt les lettres de s en testant si le caractère est maj ou min\n",
    "    for lettre in s:\n",
    "        if(lettre.isupper()):\n",
    "            nombreMaj = nombreMaj + 1 \n",
    "        elif lettre.islower():\n",
    "            nombreMin = nombreMin + 1\n",
    "            \n",
    "    return (nombreMaj , nombreMin)\n",
    "nombreMajMin(\"pYton\")"
   ]
  },
  {
   "cell_type": "code",
   "execution_count": 2,
   "metadata": {},
   "outputs": [
    {
     "name": "stdout",
     "output_type": "stream",
     "text": [
      "Chaîne 1 : yves\n",
      "Chaîne 2 : ouatche\n",
      "Chaîne la plus grande : ouatche\n"
     ]
    }
   ],
   "source": [
    "chaine1= input(\"Chaîne 1 : \")\n",
    "chaine2= input(\"Chaîne 2 : \")\n",
    "if ( len(chaine2) > len(chaine1) ) :\n",
    "    print ((\"Chaîne la plus grande : \" + chaine2 ))\n",
    "else:\n",
    "    print ((\"Chaîne la plus grande : \" + chaine1 ))"
   ]
  },
  {
   "cell_type": "code",
   "execution_count": 4,
   "metadata": {},
   "outputs": [
    {
     "name": "stdout",
     "output_type": "stream",
     "text": [
      "0\n",
      "2\n",
      "4\n",
      "6\n",
      "8\n",
      "10\n"
     ]
    }
   ],
   "source": [
    "for i in range (0,11,2):\n",
    "    print (i)"
   ]
  },
  {
   "cell_type": "code",
   "execution_count": null,
   "metadata": {},
   "outputs": [],
   "source": []
  }
 ],
 "metadata": {
  "kernelspec": {
   "display_name": "Python 3",
   "language": "python",
   "name": "python3"
  },
  "language_info": {
   "codemirror_mode": {
    "name": "ipython",
    "version": 3
   },
   "file_extension": ".py",
   "mimetype": "text/x-python",
   "name": "python",
   "nbconvert_exporter": "python",
   "pygments_lexer": "ipython3",
   "version": "3.7.6"
  }
 },
 "nbformat": 4,
 "nbformat_minor": 4
}
